{
 "cells": [
  {
   "cell_type": "code",
   "execution_count": null,
   "id": "77aa16fe",
   "metadata": {},
   "outputs": [],
   "source": []
  },
  {
   "cell_type": "code",
   "execution_count": 6,
   "id": "086777fa",
   "metadata": {},
   "outputs": [],
   "source": [
    "import pandas as pd\n",
    "from langdetect import detect\n",
    "import nltk\n",
    "import re\n",
    "df=pd.read_csv('/Users/shubhangi/Downloads/amazon/test-2.csv')\n",
    "new_df= df.iloc[:200]\n",
    "new_df.to_csv('test_200.csv', index=False)\n",
    "# print(new_df.shape[0])"
   ]
  },
  {
   "cell_type": "code",
   "execution_count": 7,
   "id": "51805459",
   "metadata": {},
   "outputs": [
    {
     "name": "stdout",
     "output_type": "stream",
     "text": [
      "    PRODUCT_ID                                              TITLE  \\\n",
      "1      1729783  DCGARING Microfiber Throw Blanket Warm Fuzzy P...   \n",
      "2      1871949  I-Match Auto Parts Front License Plate Bracket...   \n",
      "3      1107571  PinMart Gold Plated Excellence in Service 1 Ye...   \n",
      "4       624253  Visual Mathematics, Illustrated by the TI-92 a...   \n",
      "5      2782548  Evershine Shoppee 10m Waxed Nylon Thread Cotto...   \n",
      "6      1605901  Vasque Men's Velocity at Hiking Shoe, Dark Spr...   \n",
      "7       938007  Pokemon M-037 Kyurem Figure Monster Collection...   \n",
      "9      1609597  Lug Women's Puddle Jumper Wheelie 2, Heather G...   \n",
      "10      500777  Notebook: Japanese Anime Lovers Gift Manga Sen...   \n",
      "11     2736605  SHASAK Sanganer Hand Block Printed Short Kurta...   \n",
      "13      914243  Carnation Home Fashions Vinyl Tablecloth with ...   \n",
      "15     2896817  RAIBA Realme 9 Pro 5G Back Cover Hard Plastic ...   \n",
      "16      172273  Ice and Mixed Climbing: Modern Technique (Moun...   \n",
      "17        1718  House of Glass: The story and secrets of a twe...   \n",
      "18      308161            The Works of Samuel Johnson, LL.Dnannan   \n",
      "\n",
      "    PRODUCT_TYPE_ID  \n",
      "1              1622  \n",
      "2              7540  \n",
      "3             12442  \n",
      "4              6318  \n",
      "5             11205  \n",
      "6              3234  \n",
      "7                 0  \n",
      "9              2640  \n",
      "10            12415  \n",
      "11             2911  \n",
      "13             1348  \n",
      "15             2210  \n",
      "16              160  \n",
      "17             6111  \n",
      "18             6104  \n"
     ]
    }
   ],
   "source": [
    "import pandas as pd\n",
    "import numpy as np\n",
    "from langdetect import detect\n",
    "\n",
    "# Set the chunk size for reading the CSV file\n",
    "chunksize = 50\n",
    "\n",
    "# Define the function to check if text is in English\n",
    "def is_english(text):\n",
    "    try:\n",
    "        return detect(text) == 'en'\n",
    "    except:\n",
    "        return False\n",
    "\n",
    "# Create an empty list to store the filtered dataframes\n",
    "dfs = []\n",
    "\n",
    "# Read the CSV file in chunks\n",
    "for chunk in pd.read_csv('test_200.csv', chunksize=chunksize):\n",
    "    # Filter the rows with English text\n",
    "    chunk = chunk[chunk['TITLE'].apply(is_english)]\n",
    "    # Concatenate the title, bullet points, and description columns into a single column\n",
    "    chunk['TITLE'] = chunk[['TITLE', 'BULLET_POINTS', 'DESCRIPTION']].astype(str).apply(lambda x: ''.join(x), axis=1)\n",
    "    # Drop the unnecessary columns\n",
    "    chunk.drop(['BULLET_POINTS', 'DESCRIPTION'], axis=1, inplace=True)\n",
    "    # Append the filtered dataframe to the list\n",
    "    dfs.append(chunk)\n",
    "\n",
    "# Concatenate all the filtered dataframes into a single dataframe\n",
    "new_df = pd.concat(dfs)\n",
    "\n",
    "# Save the filtered dataframe to a CSV file\n",
    "new_df.to_csv('test123.csv', index=False)\n",
    "\n",
    "print(new_df.head(15))\n"
   ]
  },
  {
   "cell_type": "markdown",
   "id": "f12cf85a",
   "metadata": {},
   "source": [
    "8.21"
   ]
  }
 ],
 "metadata": {
  "kernelspec": {
   "display_name": "Python 3 (ipykernel)",
   "language": "python",
   "name": "python3"
  },
  "language_info": {
   "codemirror_mode": {
    "name": "ipython",
    "version": 3
   },
   "file_extension": ".py",
   "mimetype": "text/x-python",
   "name": "python",
   "nbconvert_exporter": "python",
   "pygments_lexer": "ipython3",
   "version": "3.9.13"
  }
 },
 "nbformat": 4,
 "nbformat_minor": 5
}
